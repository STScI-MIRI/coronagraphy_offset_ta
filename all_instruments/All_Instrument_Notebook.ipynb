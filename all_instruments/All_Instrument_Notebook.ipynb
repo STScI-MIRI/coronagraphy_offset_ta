{
 "cells": [
  {
   "cell_type": "markdown",
   "id": "75cdef04-8805-485c-9188-735257bfa252",
   "metadata": {},
   "source": [
    "# Generic Aperture Offsets Notebook\n",
    "\n",
    "This notebook provides a general user interface for doing TA in some some target, and then placing some other target on the reference position of some other aperture.\n",
    "\n",
    "In the future, the option to add multiple targets in the FOV, and to toggle between IDL coordinate output and Offset Command output will be implemented.\n",
    "\n",
    "Warning: Confirmation plots do not currently work with this notebook."
   ]
  },
  {
   "cell_type": "code",
   "execution_count": 1,
   "id": "1b6187f6-8cbc-4680-9cff-cffe04c09223",
   "metadata": {},
   "outputs": [],
   "source": [
    "import utils"
   ]
  },
  {
   "cell_type": "markdown",
   "id": "1e0a70bb-43f2-4e35-9c6a-76ab0666120b",
   "metadata": {},
   "source": [
    "## Usage\n",
    "\n",
    "1. Run the cell below, which will generate an interactive widget in the output space.\n",
    "2. Select your instrument and science aperture from the drop-down menus.\n",
    "   - The science aperture names can be a bit opaque, but you should be able to guess which one corresponds to your observation.\n",
    "   - If you have access to data that uses the subarray of interest, you can check the header for the \"APERNAME\" there and match it.\n",
    "3. Enter the RA and Dec coordinates of your acquisition and science targets.\n",
    "   - the frame must be 'ICRS'\n",
    "   - the units must be in decimal degrees\n",
    "4. Enter the PA angle of the V3 axis of the telescope at the instrument reference point.\n",
    "   - In APT, this corresponds to the \"Specify PA range using V3PA\" option under Special Requirements.\n",
    "   - This angle is given in data headers as \"ROLL_REF\"\n",
    "5. If you wish to know the positions of other stars in the field of view, you can enter them in the \"Other stars\" box\n",
    "   - The format is `label: (ra, dec)` where `ra` and `dec` are given in decimal degrees\n",
    "   - There is currently no error checking for formatting; you will just make it crash/get a wrong answer\n",
    "   - For multi-line entries, you may need to type them elsewhere and they copy-paste the list into the box\n",
    "7. Press \"Compute offset\" to get the offsets to enter into APT (you may need to press it twice).\n",
    "   - You will also get the positions in IDL coordinates of all the stars before and after the slew.\n",
    "   - For same-target TA, a hack is to enter the same position for the ACQ and SCI target"
   ]
  },
  {
   "cell_type": "markdown",
   "id": "cc20cd2e-a465-4f61-ba5a-c828f2ff2f10",
   "metadata": {},
   "source": [
    "Copy the lines below and paste them into the `Other stars` box, as an example:\n",
    "```\n",
    "a: (1.0, 2.0)\n",
    "b: (2.0, 3.0)\n",
    "c: (3.0, 4.0)\n",
    "```"
   ]
  },
  {
   "cell_type": "code",
   "execution_count": 2,
   "id": "4ac7935c-526e-4166-b303-3b616954eac4",
   "metadata": {
    "scrolled": true
   },
   "outputs": [
    {
     "data": {
      "application/vnd.jupyter.widget-view+json": {
       "model_id": "783f796b1d9940ec86bbdc4f5a7134d2",
       "version_major": 2,
       "version_minor": 0
      },
      "text/plain": [
       "VBox(children=(HBox(children=(VBox(children=(Dropdown(description='Instrument', options=('NIRCam', 'NIRSpec', …"
      ]
     },
     "execution_count": 2,
     "metadata": {},
     "output_type": "execute_result"
    }
   ],
   "source": [
    "co = utils.ComputeOffsets()\n",
    "co.get_ui()"
   ]
  }
 ],
 "metadata": {
  "kernelspec": {
   "display_name": "Python [conda env:miri_coro_offsets]",
   "language": "python",
   "name": "conda-env-miri_coro_offsets-py"
  },
  "language_info": {
   "codemirror_mode": {
    "name": "ipython",
    "version": 3
   },
   "file_extension": ".py",
   "mimetype": "text/x-python",
   "name": "python",
   "nbconvert_exporter": "python",
   "pygments_lexer": "ipython3",
   "version": "3.11.11"
  }
 },
 "nbformat": 4,
 "nbformat_minor": 5
}
