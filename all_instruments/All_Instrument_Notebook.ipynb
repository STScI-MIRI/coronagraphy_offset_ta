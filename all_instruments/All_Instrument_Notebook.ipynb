{
 "cells": [
  {
   "cell_type": "markdown",
   "id": "75cdef04-8805-485c-9188-735257bfa252",
   "metadata": {},
   "source": [
    "# Generic Aperture Offsets Notebook\n",
    "\n",
    "This notebook provides a general user interface for doing TA in some some target, and then placing some other target on the reference position of some other aperture.\n",
    "\n",
    "In the future, the option to add multiple targets in the FOV, and to toggle between IDL coordinate output and Offset Command output will be implemented"
   ]
  },
  {
   "cell_type": "code",
   "execution_count": 45,
   "id": "47a6505a-cb69-469e-98bc-2c75021424c3",
   "metadata": {},
   "outputs": [],
   "source": [
    "%load_ext autoreload\n",
    "%autoreload 2"
   ]
  },
  {
   "cell_type": "code",
   "execution_count": null,
   "id": "1b6187f6-8cbc-4680-9cff-cffe04c09223",
   "metadata": {},
   "outputs": [],
   "source": [
    "from pysiaf import Siaf\n",
    "\n",
    "import ipywidgets as widgets\n",
    "\n",
    "import utils"
   ]
  },
  {
   "cell_type": "markdown",
   "id": "1e0a70bb-43f2-4e35-9c6a-76ab0666120b",
   "metadata": {},
   "source": [
    "## Usage\n",
    "\n",
    "1. Run the cell below, which will generate an interactive widget in the output space.\n",
    "2. Select your instrument and science aperture from the drop-down menus.\n",
    "   - The science aperture names can be a bit opaque, but you should be able to guess which one corresponds to your observation.\n",
    "   - If you have access to data that uses the subarray of interest, you can check the header for the \"APERNAME\" there and match it.\n",
    "3. Enter the RA and Dec coordinates of your acquisition and science targets.\n",
    "   - the frame must be 'ICRS'\n",
    "   - the units must be in decimal degrees\n",
    "4. Enter the PA angle of the V3 axis of the telescope at the instrument reference point.\n",
    "   - In APT, this corresponds to the \"Specify PA range using V3PA\" option under Special Requirements.\n",
    "   - This angle is given in data headers as \"ROLL_REF\"\n",
    "6. Press \"Compute offset\" to get the offsets to enter into APT."
   ]
  },
  {
   "cell_type": "code",
   "execution_count": 149,
   "id": "4ac7935c-526e-4166-b303-3b616954eac4",
   "metadata": {},
   "outputs": [
    {
     "data": {
      "application/vnd.jupyter.widget-view+json": {
       "model_id": "4b148a53e5b14523b81ebf612f8ec1d4",
       "version_major": 2,
       "version_minor": 0
      },
      "text/plain": [
       "VBox(children=(HBox(children=(VBox(children=(Dropdown(description='Instrument', options=('NIRCam', 'NIRSpec', …"
      ]
     },
     "execution_count": 149,
     "metadata": {},
     "output_type": "execute_result"
    }
   ],
   "source": [
    "co = utils.ComputeOffsets()\n",
    "co.get_ui()"
   ]
  },
  {
   "cell_type": "code",
   "execution_count": null,
   "id": "3f74f9a7-761e-4d21-8021-37c2783f79dd",
   "metadata": {},
   "outputs": [],
   "source": []
  }
 ],
 "metadata": {
  "kernelspec": {
   "display_name": "Python [conda env:miri_coro_offsets]",
   "language": "python",
   "name": "conda-env-miri_coro_offsets-py"
  },
  "language_info": {
   "codemirror_mode": {
    "name": "ipython",
    "version": 3
   },
   "file_extension": ".py",
   "mimetype": "text/x-python",
   "name": "python",
   "nbconvert_exporter": "python",
   "pygments_lexer": "ipython3",
   "version": "3.11.11"
  }
 },
 "nbformat": 4,
 "nbformat_minor": 5
}
