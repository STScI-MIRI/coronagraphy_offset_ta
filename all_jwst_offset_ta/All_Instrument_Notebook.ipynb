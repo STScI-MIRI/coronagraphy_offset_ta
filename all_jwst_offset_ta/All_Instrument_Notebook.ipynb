{
 "cells": [
  {
   "cell_type": "markdown",
   "id": "75cdef04-8805-485c-9188-735257bfa252",
   "metadata": {},
   "source": [
    "# Generic Aperture Offsets Notebook\n",
    "\n",
    "This notebook provides a general user interface for doing TA in some some target, and then placing some other target on the reference position of some other aperture.\n",
    "\n",
    "In the future, the option to add multiple targets in the FOV, and to toggle between IDL coordinate output and Offset Command output will be implemented.\n",
    "\n",
    "Warning: Confirmation plots do not currently work with this notebook."
   ]
  },
  {
   "cell_type": "code",
   "execution_count": 1,
   "id": "c4bdd04f-4a02-40d3-aa7c-c27d74c616b3",
   "metadata": {},
   "outputs": [],
   "source": [
    "# for development purposes\n",
    "%load_ext autoreload\n",
    "%autoreload 2"
   ]
  },
  {
   "cell_type": "code",
   "execution_count": 2,
   "id": "a253e374-69e3-4186-bc15-aa246d78f61f",
   "metadata": {},
   "outputs": [],
   "source": [
    "from all_jwst_offset_ta import utils"
   ]
  },
  {
   "cell_type": "markdown",
   "id": "1e0a70bb-43f2-4e35-9c6a-76ab0666120b",
   "metadata": {},
   "source": [
    "## Usage\n",
    "\n",
    "1. Run the cell below, which will generate an interactive widget in the output space.\n",
    "2. Select your instrument and science aperture from the drop-down menus.\n",
    "   - The science aperture names can be a bit opaque, but you should be able to guess which one corresponds to your observation.\n",
    "   - If you have access to data that uses the subarray of interest, you can check the header for the \"APERNAME\" there and match it.\n",
    "3. Enter the RA and Dec coordinates of your acquisition and science targets.\n",
    "   - the frame must be 'ICRS'\n",
    "   - the units must be in decimal degrees\n",
    "4. Enter the PA angle of the V3 axis of the telescope at the instrument reference point.\n",
    "   - In APT, this corresponds to the \"Specify PA range using V3PA\" option under Special Requirements.\n",
    "   - This angle is given in data headers as \"ROLL_REF\"\n",
    "5. If you wish to know the positions of other stars in the field of view, you can enter them in the \"Other stars\" box\n",
    "   - The format is `label: (ra, dec)` where `ra` and `dec` are given in decimal degrees\n",
    "   - There is currently no error checking for formatting; you will just make it crash/get a wrong answer\n",
    "   - For multi-line entries, you may need to type them elsewhere and they copy-paste the list into the box\n",
    "7. Press \"Compute offset\" to get the offsets to enter into APT (you may need to press it twice).\n",
    "   - You will also get the positions in IDL coordinates of all the stars before and after the slew.\n",
    "   - For same-target TA, a hack is to enter the same position for the ACQ and SCI target"
   ]
  },
  {
   "cell_type": "markdown",
   "id": "cc20cd2e-a465-4f61-ba5a-c828f2ff2f10",
   "metadata": {},
   "source": [
    "Copy the lines below and paste them into the `Other stars` box, as an example:\n",
    "```\n",
    "a: (1.0, 2.0)\n",
    "b: (2.0, 3.0)\n",
    "c: (3.0, 4.0)\n",
    "```"
   ]
  },
  {
   "cell_type": "markdown",
   "id": "eefc27e5-0d9c-4815-ac74-7f5f17beac9f",
   "metadata": {},
   "source": [
    "## Initialization with default values"
   ]
  },
  {
   "cell_type": "code",
   "execution_count": 3,
   "id": "c61c9ced-d1b2-4b70-83f3-b4e304fa0a28",
   "metadata": {
    "scrolled": true
   },
   "outputs": [
    {
     "data": {
      "application/vnd.jupyter.widget-view+json": {
       "model_id": "de28358fd6904b1ebe2dbaa168a6bac0",
       "version_major": 2,
       "version_minor": 0
      },
      "text/plain": [
       "VBox(children=(HBox(children=(VBox(children=(Dropdown(description='Instrument', options=('NIRCAM', 'NIRSPEC', …"
      ]
     },
     "execution_count": 3,
     "metadata": {},
     "output_type": "execute_result"
    }
   ],
   "source": [
    "# create the ComputeOffsets object and start the UI\n",
    "co1 = utils.ComputeOffsets()\n",
    "ui1 = co1.show_ui()\n",
    "ui1"
   ]
  },
  {
   "cell_type": "markdown",
   "id": "4ebab1eb-2445-4675-8bed-501f103fd552",
   "metadata": {},
   "source": [
    "## Initialization from a configuration dictionary\n",
    "\n",
    "Alternatively, one can provide a dictionary to pre-populate the fields of the interface. This is useful for repeatability/record keeping purposes.\n",
    "\n",
    "As an example, let's use MIRI's 15.5 um coronagraph to do TA on a star at (90, 90) and then slew to (91, 89) at a V3_PA angle of 180 deg. There are three other stars of interest, labeled a, b, and c, located at coordinates (1, 2), (2, 3), and (3, 4)."
   ]
  },
  {
   "cell_type": "code",
   "execution_count": 9,
   "id": "1a4fa50c-d4ce-4bf1-b219-6f57bc8b8fd1",
   "metadata": {
    "scrolled": true
   },
   "outputs": [],
   "source": [
    "initial_values={\n",
    "    'instr': 'miri',\n",
    "    'sci_aper': 'mirim_mask1550', \n",
    "    'pa': 180.,\n",
    "    'acq_ra': 90., 'acq_dec': 90.,\n",
    "    'sci_ra': 91., 'sci_dec': 89.,\n",
    "}\n",
    "# add a multi-line string of the other stars\n",
    "initial_values['other_stars'] = \"\"\"\n",
    "a: (1.0, 2.0)\n",
    "b: (2.0, 3.0)\n",
    "c: (3.0, 4.0)\n",
    "\"\"\".strip()"
   ]
  },
  {
   "cell_type": "code",
   "execution_count": 10,
   "id": "f2ed2038-32cf-4101-9d95-aefe3ed6078c",
   "metadata": {},
   "outputs": [
    {
     "data": {
      "application/vnd.jupyter.widget-view+json": {
       "model_id": "cf4acf68a5974b6e8ae83d98558f51ab",
       "version_major": 2,
       "version_minor": 0
      },
      "text/plain": [
       "VBox(children=(HBox(children=(VBox(children=(Dropdown(description='Instrument', index=3, options=('NIRCAM', 'N…"
      ]
     },
     "execution_count": 10,
     "metadata": {},
     "output_type": "execute_result"
    }
   ],
   "source": [
    "co2 = utils.ComputeOffsets(initial_values=initial_values)\n",
    "ui2 = co2.show_ui()\n",
    "ui2"
   ]
  },
  {
   "cell_type": "markdown",
   "id": "1d5360ce-24f9-4f90-ac33-3b39ecc33e09",
   "metadata": {},
   "source": [
    "A caveat: for each set of calculations, the user should create a new \"ComputeOffsets\" object. Calling the same UI object again changes its values globally."
   ]
  }
 ],
 "metadata": {
  "kernelspec": {
   "display_name": "Python [conda env:miri_coro_offsets]",
   "language": "python",
   "name": "conda-env-miri_coro_offsets-py"
  },
  "language_info": {
   "codemirror_mode": {
    "name": "ipython",
    "version": 3
   },
   "file_extension": ".py",
   "mimetype": "text/x-python",
   "name": "python",
   "nbconvert_exporter": "python",
   "pygments_lexer": "ipython3",
   "version": "3.11.11"
  }
 },
 "nbformat": 4,
 "nbformat_minor": 5
}
