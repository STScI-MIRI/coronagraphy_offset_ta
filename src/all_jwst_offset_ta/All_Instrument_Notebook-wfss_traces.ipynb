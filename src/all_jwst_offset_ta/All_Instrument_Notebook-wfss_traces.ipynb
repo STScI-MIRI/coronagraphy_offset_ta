{
 "cells": [
  {
   "cell_type": "markdown",
   "id": "75cdef04-8805-485c-9188-735257bfa252",
   "metadata": {},
   "source": [
    "# WFSS trace plotting notebook\n",
    "\n",
    "Author: Jonathan Aguilar (jaguilar@stsci.edu)\n",
    "\n",
    "This notebook visualizes the spectral traces for WFSS observations for a given orientation of the telescope (this is an early version, so the tools for WFSS trace visualization may evolve over time).\n",
    "\n",
    "This notebook was originally designed for observations that use target acquisition on one star and then slew to another. WFSS does not do this, so users should use the same coordinates for their ACQ target as for their SCI target. \n",
    "\n",
    "The user provides the RA and Dec coordinates for the target acquisition (ACQ) star and science (SCI) star, and a telescope roll angle. These tools will then compute a) the \"Special Requirment Offset\" X and Y values needed to place the SCI star at the reference position, and b) the final coordinates of the SCI and ACQ stars. Coordinates are given in IDL (https://jwst-docs.stsci.edu/jwst-observatory-hardware/jwst-target-observability-and-observatory-coordinate-system/jwst-instrument-ideal-coordinate-systems#gsc.tab=0).\n",
    "\n",
    "The user can also provide a list of extra targets in the field in the format specified below, and their IDL coordinates will also be computed. As such, this notebook is useful not just for planning target acquisition, but also for predicting to high precision the final positions of astronomical bodies in the field of view.\n",
    "\n",
    "## Setup ##\n",
    "\n",
    "- With installing the module:\n",
    "  1. Navigate in a terminal to the directory where you have downloaded the module. This should contain the `setup.py` file.\n",
    "  2. Activate your desired python environment.\n",
    "  3. Run `pip install .`\n",
    "  4. Copy this notebook to your working directory, and run your jupyter kernel in the appropriate environment.\n",
    "- Without installing the module:\n",
    "  1. Copy this notebook and `utils.py` to your working directory.\n",
    "  2. In the cell below, change `from all_jwst_offset_ta import utils` to `import utils`\n",
    "  3. Open the notebook as you normally would. The following python modules must be installed in the working enviroment:\n",
    "     -  `ipywidgets`\n",
    "     - `numpy`\n",
    "     - `matplotlib`\n",
    "     - `astropy`\n",
    "     - `pysiaf`"
   ]
  },
  {
   "cell_type": "code",
   "execution_count": 1,
   "id": "c4bdd04f-4a02-40d3-aa7c-c27d74c616b3",
   "metadata": {},
   "outputs": [],
   "source": [
    "# for development purposes\n",
    "%load_ext autoreload\n",
    "%autoreload 2"
   ]
  },
  {
   "cell_type": "code",
   "execution_count": 3,
   "id": "6b1fafef-6bdf-4db9-81bf-ea0038e23fb2",
   "metadata": {},
   "outputs": [],
   "source": [
    "# for your system, choose an appropriate plotting backend to make pop-up window plots. \n",
    "# Currently, inline plots do not work.\n",
    "%matplotlib osx"
   ]
  },
  {
   "cell_type": "code",
   "execution_count": 6,
   "id": "a253e374-69e3-4186-bc15-aa246d78f61f",
   "metadata": {},
   "outputs": [
    {
     "name": "stderr",
     "output_type": "stream",
     "text": [
      "**WARNING**: LOCAL JWST PRD VERSION PRDOPSSOC-068 DOESN'T MATCH THE CURRENT ONLINE VERSION PRDOPSSOC-071\n",
      "Please consider updating pysiaf, e.g. pip install --upgrade pysiaf or conda update pysiaf\n"
     ]
    }
   ],
   "source": [
    "from all_jwst_offset_ta import utils\n",
    "# if the library is not installed replace the line above with the line below \n",
    "# when `utils.py` is in the same folder as the notebook\n",
    "# import utils"
   ]
  },
  {
   "cell_type": "markdown",
   "id": "1e0a70bb-43f2-4e35-9c6a-76ab0666120b",
   "metadata": {},
   "source": [
    "## Usage\n",
    "\n",
    "1. Run the cell below, which will generate an interactive widget in the output space.\n",
    "2. Select your instrument and science aperture from the drop-down menus.\n",
    "   - The science aperture names can be a bit opaque, but you should be able to guess which one corresponds to your observation.\n",
    "   - If you have access to data that uses the subarray of interest, you can check the header for the \"APERNAME\" there and match it.\n",
    "3. Enter the RA and Dec coordinates of your acquisition and science targets.\n",
    "   - the frame must be 'ICRS'\n",
    "   - the units must be in decimal degrees\n",
    "4. Enter the PA angle of the V3 axis of the telescope at the instrument reference point.\n",
    "   - In APT, this corresponds to the \"Specify PA range using V3PA\" option under Special Requirements.\n",
    "   - This angle is given in data headers as \"ROLL_REF\"\n",
    "5. If you wish to know the positions of other stars in the field of view, you can enter them in the \"Other stars\" box\n",
    "   - The format is `label: (ra, dec)` where `ra` and `dec` are given in decimal degrees\n",
    "   - There is currently no error checking for formatting; you will just make it crash/get a wrong answer\n",
    "   - For multi-line entries, you may need to type them elsewhere and they copy-paste the list into the box\n",
    "7. Press \"Compute offset\" to get the offsets to enter into APT (you may need to press it twice).\n",
    "   - You will also get the positions in IDL coordinates of all the stars before and after the slew.\n",
    "   - For same-target TA, a hack is to enter the same position for the ACQ and SCI target"
   ]
  },
  {
   "cell_type": "markdown",
   "id": "835f5350-dff3-453c-a6df-5ac7d335240d",
   "metadata": {},
   "source": [
    "Copy the lines below and paste them into the `Other stars` box, as an example:\n",
    "```\n",
    "a: (1.0, 2.0)\n",
    "b: (2.0, 3.0)\n",
    "c: (3.0, 4.0)\n",
    "```"
   ]
  },
  {
   "cell_type": "code",
   "execution_count": 7,
   "id": "c61c9ced-d1b2-4b70-83f3-b4e304fa0a28",
   "metadata": {},
   "outputs": [
    {
     "data": {
      "application/vnd.jupyter.widget-view+json": {
       "model_id": "19ab2e0b5fd24dae810ac93efd345e7a",
       "version_major": 2,
       "version_minor": 0
      },
      "text/plain": [
       "VBox(children=(GridspecLayout(children=(Label(value='IDL COORDINATE AND OFFSET TA CALCULATOR', layout=Layout(d…"
      ]
     },
     "execution_count": 7,
     "metadata": {},
     "output_type": "execute_result"
    }
   ],
   "source": [
    "# create the ComputeOffsets object and start the UI with default initialization.\n",
    "co1 = utils.ComputeOffsets()\n",
    "# to display the user interface, just do this:\n",
    "co1.ui"
   ]
  },
  {
   "cell_type": "markdown",
   "id": "04a0965f-4e0c-4aa9-9858-3fe97073c3b7",
   "metadata": {},
   "source": [
    "You can also access the IDL coordinates from the object to use them programatically:\n",
    "\n",
    "(note: If the cell below throws an error, it's because you have to press the \"Compute offset\" button)"
   ]
  },
  {
   "cell_type": "code",
   "execution_count": 8,
   "id": "500d1803-47e8-44d9-915b-fd5c847e5ddf",
   "metadata": {},
   "outputs": [
    {
     "data": {
      "text/plain": [
       "{'ACQ': array([-2.84203838e-14,  2.74500713e-16]),\n",
       " 'SCI': array([-2.84203838e-14,  2.74500713e-16])}"
      ]
     },
     "execution_count": 8,
     "metadata": {},
     "output_type": "execute_result"
    }
   ],
   "source": [
    "co1.idl_coords_after_ta"
   ]
  },
  {
   "cell_type": "code",
   "execution_count": 9,
   "id": "cfff4542-f2a3-49f9-896f-bfe94c046bd2",
   "metadata": {},
   "outputs": [
    {
     "data": {
      "text/plain": [
       "{'ACQ': array([0., 0.]), 'SCI': array([0., 0.])}"
      ]
     },
     "execution_count": 9,
     "metadata": {},
     "output_type": "execute_result"
    }
   ],
   "source": [
    "co1.idl_coords_after_slew"
   ]
  },
  {
   "cell_type": "markdown",
   "id": "4ebab1eb-2445-4675-8bed-501f103fd552",
   "metadata": {},
   "source": [
    "## Initialization from a configuration dictionary\n",
    "\n",
    "Alternatively, one can provide a dictionary to pre-populate the fields of the interface. This is useful for repeatability/record keeping purposes. A non-empty dictionary will automatically trigger the output calculations, filling in default values for missing entries.\n",
    "\n",
    "As an example, let's use MIRI's 15.5 um coronagraph to do TA on a star at (0, 0) and then slew to another star at (50 arcsec, 50 arcsec), with the telescope oriented at a V3_PA angle of 180 deg. There are three other stars of interest, labeled a and b, located at coordinates (60 arcsec, 40 arcsec), and (40 arcsec, 60 arcsec), respectively."
   ]
  },
  {
   "cell_type": "markdown",
   "id": "89911de7-d5e7-407e-98fe-89e221954b96",
   "metadata": {},
   "source": [
    "**<span style=\"color:red\">WARNING</span>**: for each set of calculations, create a new \"ComputeOffsets\" object. Calling the same UI object again changes its values globally."
   ]
  },
  {
   "cell_type": "code",
   "execution_count": 10,
   "id": "1a4fa50c-d4ce-4bf1-b219-6f57bc8b8fd1",
   "metadata": {
    "scrolled": true
   },
   "outputs": [],
   "source": [
    "from astropy import units\n",
    "initial_values={\n",
    "    'instr': 'miri',\n",
    "    'sci_aper': 'mirim_illum', \n",
    "    'pa': 180.,\n",
    "    'acq_ra': (50*units.arcsec).to(\"deg\").value, 'acq_dec': (50*units.arcsec).to(\"deg\").value,\n",
    "    'sci_ra': (50*units.arcsec).to(\"deg\").value, 'sci_dec': (50*units.arcsec).to(\"deg\").value,\n",
    "}\n",
    "# add a multi-line string of the other stars\n",
    "initial_values['other_stars'] = \"\"\"\n",
    "a: (0.017, 0.011)\n",
    "b: (0.011, 0.017)\n",
    "\"\"\".strip()"
   ]
  },
  {
   "cell_type": "code",
   "execution_count": 11,
   "id": "f2ed2038-32cf-4101-9d95-aefe3ed6078c",
   "metadata": {},
   "outputs": [
    {
     "data": {
      "application/vnd.jupyter.widget-view+json": {
       "model_id": "83dfb117df014f21b87740d30f199db1",
       "version_major": 2,
       "version_minor": 0
      },
      "text/plain": [
       "VBox(children=(GridspecLayout(children=(Label(value='IDL COORDINATE AND OFFSET TA CALCULATOR', layout=Layout(d…"
      ]
     },
     "execution_count": 11,
     "metadata": {},
     "output_type": "execute_result"
    }
   ],
   "source": [
    "co = utils.ComputeOffsets(initial_values=initial_values)\n",
    "co.ui"
   ]
  },
  {
   "cell_type": "markdown",
   "id": "2d42ebc7-1b81-4c7f-b609-e53f5d520473",
   "metadata": {},
   "source": [
    "## An example of a real field\n",
    "\n",
    "The source coordinates below are taken from a real commissioning activity, where we needed to check that the traces wouldn't overlap."
   ]
  },
  {
   "cell_type": "code",
   "execution_count": 15,
   "id": "134e920f-ac22-4d05-baee-eec9942a9e57",
   "metadata": {},
   "outputs": [],
   "source": [
    "# some \n",
    "sources = {\n",
    "    'SCI': utils.SkyCoord(\"05 24 20.7552 -70 05 1.60\", frame='icrs', unit=(\"hourangle\",\"degree\")),\n",
    "    'a': utils.SkyCoord(\"05 24 26.33969 -70 05 22.3545\", frame='icrs', unit=(\"hourangle\",\"degree\")),\n",
    "    'b': utils.SkyCoord(\"05 24 28.67861 -70 05 24.4484\", frame='icrs', unit=(\"hourangle\",\"degree\")),\n",
    "    'c': utils.SkyCoord(\"05 24 36.22460 -70 05 28.1876\", frame='icrs', unit=(\"hourangle\",\"degree\")),\n",
    "    'd': utils.SkyCoord(\"05 24 25.608 -70 05 01.66\", frame='icrs', unit=(\"hourangle\",\"degree\")),\n",
    "}"
   ]
  },
  {
   "cell_type": "code",
   "execution_count": 16,
   "id": "12f06f40-60f7-4052-8a19-a530eeef6916",
   "metadata": {},
   "outputs": [
    {
     "name": "stdout",
     "output_type": "stream",
     "text": [
      "SCI: (81.08648, -70.08377777777777)\n",
      "a: (81.10974870833334, -70.08954291666666)\n",
      "b: (81.11949420833332, -70.09012455555555)\n",
      "c: (81.15093583333332, -70.09116322222222)\n",
      "d: (81.1067, -70.08379444444444)\n"
     ]
    }
   ],
   "source": [
    "# format the sources for easy copy-pasting\n",
    "for s, c in sources.items():\n",
    "    print(f\"{s}: ({c.ra.deg}, {c.dec.deg})\")"
   ]
  },
  {
   "cell_type": "code",
   "execution_count": 17,
   "id": "6bac963d-276f-44c9-98f5-de0c6636b248",
   "metadata": {
    "scrolled": true
   },
   "outputs": [],
   "source": [
    "from astropy import units\n",
    "initial_values={\n",
    "    'instr': 'miri',\n",
    "    'sci_aper': 'mirim_illum', \n",
    "    'pa': 290.,\n",
    "    'sci_ra': sources['SCI'].ra.deg, 'sci_dec': sources['SCI'].dec.deg,\n",
    "}\n",
    "# add a multi-line string of the other stars, copied from the cell above\n",
    "initial_values['other_stars'] = \"\"\"\n",
    "a: (81.10974870833334, -70.08954291666666)\n",
    "b: (81.11949420833332, -70.09012455555555)\n",
    "c: (81.15093583333332, -70.09116322222222)\n",
    "d: (81.1067, -70.08379444444444)\n",
    "\"\"\".strip()"
   ]
  },
  {
   "cell_type": "code",
   "execution_count": 18,
   "id": "9abf1f63-a637-4923-8edd-5e2daccf231b",
   "metadata": {},
   "outputs": [
    {
     "data": {
      "application/vnd.jupyter.widget-view+json": {
       "model_id": "7e7f6420e27840759f4b5ee05fc1b4fd",
       "version_major": 2,
       "version_minor": 0
      },
      "text/plain": [
       "VBox(children=(GridspecLayout(children=(Label(value='IDL COORDINATE AND OFFSET TA CALCULATOR', layout=Layout(d…"
      ]
     },
     "execution_count": 18,
     "metadata": {},
     "output_type": "execute_result"
    }
   ],
   "source": [
    "co1 = utils.ComputeOffsets(initial_values=initial_values)\n",
    "co1.ui"
   ]
  },
  {
   "cell_type": "markdown",
   "id": "bb0fe84f-3d29-4573-8641-b1299cd248e1",
   "metadata": {},
   "source": [
    "## Plot WFSS traces\n",
    "\n",
    "To plot the WFSS traces, use the function below."
   ]
  },
  {
   "cell_type": "code",
   "execution_count": 19,
   "id": "be1d135e-720b-4209-8980-33b2757b06f5",
   "metadata": {},
   "outputs": [],
   "source": [
    "import matplotlib as mpl\n",
    "from matplotlib import pyplot as plt\n",
    "\n",
    "def plot_wfss_traces(\n",
    "    idl_coords : dict,\n",
    "    aper : utils.pysiaf.JwstAperture,\n",
    "    ax : mpl.axes.Axes = None,\n",
    "    title : str = '',\n",
    "    show_mirim_illum = True,\n",
    "    plot_full : bool = False\n",
    "):\n",
    "    \"\"\"\n",
    "    Compute the idl coordinates overlaid on the aperture of interest. Add the WFSS traces as well.\n",
    "    idl_coords : dict[label, tuple[ra, dec]]\n",
    "      usually, one of utils.ComputeOffsets().idl_coords_after_ta or\n",
    "      utils.ComputeOffsets().idl_coords_after_slew\n",
    "    aper : usually the return value of utils.ComputeOffsets().get_aper()\n",
    "    ax : axis to plot on\n",
    "    title : title for the axis\n",
    "    show_aper_title : if True, display the text MIRIM_ILLUM\n",
    "    plot_full : if True, also plot the FULL detector array\n",
    "    \"\"\"\n",
    "    if ax is None:\n",
    "        fig, ax = plt.subplots()\n",
    "    else:\n",
    "        fig = ax.get_figure()\n",
    "    ax.set_title(title)\n",
    "    trace_up = 100 * aper.YSciScale\n",
    "    trace_down = 300 * aper.YSciScale\n",
    "   \n",
    "    for i, (k, coord) in enumerate(idl_coords.items()):\n",
    "        width = 1\n",
    "        height = trace_up + trace_down\n",
    "        ll = (coord[0]-width/2, coord[1]-trace_down)\n",
    "        trace = mpl.patches.Rectangle(ll, width, height, facecolor=f'C0', alpha=0.5)\n",
    "        ax.add_patch(trace)\n",
    "        ax.scatter(*coord, c=f'C{i}', marker='x',label=k)\n",
    "    aper.plot(ax=ax, fill=False, mark_ref=False, frame='idl', label=True, zorder=-1)\n",
    "\n",
    "    if plot_full:\n",
    "        full_aper = utils.Siaf(\"MIRI\")['MIRIM_FULL']\n",
    "        # conver the corners to ILLUM IDL\n",
    "        corners = aper.convert(*full_aper.corners(\"tel\"), from_frame=\"tel\", to_frame='idl')\n",
    "        full_rect = mpl.patches.Rectangle(\n",
    "            xy = np.min(corners, axis=1),\n",
    "            width = np.diff(corners[0]).max(),\n",
    "            height = np.diff(corners[1]).max(),\n",
    "            fill=False, ec='gray'\n",
    "        )\n",
    "        ax.add_patch(full_rect)\n",
    "    ax.legend(loc=(1.05, 0.3), title='Sources')\n",
    "    return fig"
   ]
  },
  {
   "cell_type": "code",
   "execution_count": 20,
   "id": "06a54706-9987-4c55-a650-c14a1b91c53a",
   "metadata": {},
   "outputs": [],
   "source": [
    "coords_to_plot = co1.idl_coords_after_slew.copy()\n",
    "# remove the ACQ star from the plot\n",
    "coords_to_plot.pop(\"ACQ\")\n",
    "coords_to_plot[\"VI\"] = coords_to_plot.pop(\"SCI\")\n",
    "fig = plot_wfss_traces(\n",
    "    coords_to_plot, \n",
    "    aper = co1.get_aper(),\n",
    "    title=f\"PA = {co1._initial_values['pa']}\",\n",
    "    show_mirim_illum=True\n",
    ")"
   ]
  },
  {
   "cell_type": "code",
   "execution_count": null,
   "id": "05a4264e-1bfe-4e46-816b-2ac28067de77",
   "metadata": {},
   "outputs": [],
   "source": []
  }
 ],
 "metadata": {
  "kernelspec": {
   "display_name": "miri_coro_offsets",
   "language": "python",
   "name": "miri_coro_offsets"
  },
  "language_info": {
   "codemirror_mode": {
    "name": "ipython",
    "version": 3
   },
   "file_extension": ".py",
   "mimetype": "text/x-python",
   "name": "python",
   "nbconvert_exporter": "python",
   "pygments_lexer": "ipython3",
   "version": "3.11.11"
  }
 },
 "nbformat": 4,
 "nbformat_minor": 5
}
